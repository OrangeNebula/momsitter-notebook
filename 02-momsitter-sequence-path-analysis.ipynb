{
 "cells": [
  {
   "cell_type": "markdown",
   "metadata": {},
   "source": [
    "# Momsitter User Sequence Path Analysis\n",
    "\n",
    "지난 노트에서는 시퀸스의 ngram 을 이용하여 자주 나타나는 패턴을 알아보았다. 이번에는 같은 데이터를 이용하여 어떤 시퀸스에서 어떤 시퀸스로 전이되는지, 시퀸스 아이템간의 path(edge) 가 "
   ]
  }
 ],
 "metadata": {
  "kernelspec": {
   "display_name": "Python 2",
   "language": "python",
   "name": "python2"
  },
  "language_info": {
   "codemirror_mode": {
    "name": "ipython",
    "version": 2
   },
   "file_extension": ".py",
   "mimetype": "text/x-python",
   "name": "python",
   "nbconvert_exporter": "python",
   "pygments_lexer": "ipython2",
   "version": "2.7.14"
  }
 },
 "nbformat": 4,
 "nbformat_minor": 2
}
